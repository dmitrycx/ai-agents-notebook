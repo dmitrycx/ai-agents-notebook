{
 "cells": [
  {
   "cell_type": "markdown",
   "metadata": {
    "polyglot_notebook": {
     "kernelName": "markdown"
    }
   },
   "source": [
    "# AI Agents in .NET\n",
    "\n",
    "\n",
    "## What is AI Agent?\n",
    "\n",
    "AI agents are more than just AI models that generate text—they are autonomous systems that perceive, reason, and act. \n",
    "\n",
    "Unlike traditional AI, which simply responds based on static data, AI agents can interact with their environment, call tools, remember previous actions, and make decisions. "
   ]
  },
  {
   "cell_type": "markdown",
   "metadata": {},
   "source": [
    "## Setting up LLM\n",
    "\n",
    "But before we begin we need to do something else.\\\n",
    "As we use LLM as the 'brain' of our agent, we need to set up it first. There are different ways how we can do it\n",
    "- we can do it using [openAI platform](https://platform.openai.com/api-keys)\n",
    "- we can use our own local model with [Ollama](https://ollama.com)\n",
    "- we can use Azure OpenAI and [Azure AI Foundry](https://ai.azure.com) to deploy any LLM available for us\n",
    "\n",
    "In this example we will be using AzureAI. \n",
    ">If you decide to go with another option you might require a bit different nuget packages"
   ]
  },
  {
   "cell_type": "code",
   "execution_count": 4,
   "metadata": {
    "polyglot_notebook": {
     "kernelName": "csharp"
    }
   },
   "outputs": [],
   "source": [
    "var Endpoint = \"<REPLACE_WITH_AZURE_OPENAI_ENDPOINT>\";\n",
    "var Key = \"<REPLACE_WITH_AZURE_OPENAI_API_KEY>\";\n",
    "var ChatModelId = \"gpt-4o\"; // use any model you deployed"
   ]
  },
  {
   "cell_type": "markdown",
   "metadata": {},
   "source": [
    "## Semantic Kernel"
   ]
  },
  {
   "cell_type": "code",
   "execution_count": 10,
   "metadata": {
    "polyglot_notebook": {
     "kernelName": "csharp"
    }
   },
   "outputs": [
    {
     "data": {
      "text/html": [
       "<div><div></div><div></div><div><strong>Installed Packages</strong><ul><li><span>Microsoft.Extensions.AI, 9.3.0-preview.1.25161.3</span></li><li><span>Microsoft.Extensions.AI.OpenAI, 9.3.0-preview.1.25161.3</span></li><li><span>Microsoft.SemanticKernel.Connectors.AzureOpenAI, 1.41.0</span></li></ul></div></div>"
      ]
     },
     "metadata": {},
     "output_type": "display_data"
    }
   ],
   "source": [
    "#r \"nuget: Microsoft.SemanticKernel.Connectors.AzureOpenAI, 1.41.0\""
   ]
  },
  {
   "cell_type": "code",
   "execution_count": 3,
   "metadata": {
    "polyglot_notebook": {
     "kernelName": "csharp"
    }
   },
   "outputs": [],
   "source": [
    "using Microsoft.SemanticKernel;\n",
    "using Microsoft.SemanticKernel.ChatCompletion;\n",
    "using Microsoft.SemanticKernel.Connectors.OpenAI;"
   ]
  },
  {
   "cell_type": "code",
   "execution_count": 4,
   "metadata": {
    "polyglot_notebook": {
     "kernelName": "csharp"
    }
   },
   "outputs": [],
   "source": [
    "var kernel = Kernel.CreateBuilder()\n",
    "        .AddAzureOpenAIChatCompletion(ChatModelId, Endpoint, Key)\n",
    "        .Build();"
   ]
  },
  {
   "cell_type": "markdown",
   "metadata": {},
   "source": [
    "### Creating Plugin\n",
    "\n",
    "With our Kernel created we need to give it more power.  \n",
    "Plugin or a tool is basically an \"instrument\" that we are giving to our agent.  \n",
    "\n",
    "Let's create a 'Weather Plugin' so our agent could discover what's the weather look like and use this information in case if it needs it."
   ]
  },
  {
   "cell_type": "code",
   "execution_count": 5,
   "metadata": {
    "polyglot_notebook": {
     "kernelName": "csharp"
    }
   },
   "outputs": [],
   "source": [
    "using Microsoft.SemanticKernel;\n",
    "using System.ComponentModel;\n",
    "\n",
    "public class WeatherPlugin\n",
    "{\n",
    "    [KernelFunction(\"gets_the_weather\")]\n",
    "    [Description(\"Gets the weather\")]\n",
    "    public string GetWeather(string destination)\n",
    "    {\n",
    "        return $\"It's {(Random.Shared.NextDouble() > 0.5 ? \"sunny\" : \"raining\")} in {destination}\";\n",
    "    }\n",
    "    \n",
    "    [KernelFunction(\"gets_the_wind_speed\")]\n",
    "    [Description(\"Gets the wind speed\")]\n",
    "    public string GetWindSpeed()\n",
    "    {\n",
    "        return $\"{Random.Shared.Next(0, 50)} m/s\";\n",
    "    }\n",
    "}"
   ]
  },
  {
   "cell_type": "markdown",
   "metadata": {},
   "source": [
    "We created a plugin 'Weather Plugin' and implemented 2 methods to get weather and speed of wind information.  \n",
    "Of course in a real application we would rather use real weather api but for the learning purposes that will work.\n",
    "\n",
    "Now let's \"give\" our agent this tool. For this we need to register it"
   ]
  },
  {
   "cell_type": "code",
   "execution_count": 6,
   "metadata": {
    "polyglot_notebook": {
     "kernelName": "csharp"
    }
   },
   "outputs": [],
   "source": [
    "kernel.Plugins.AddFromType<WeatherPlugin>();"
   ]
  },
  {
   "cell_type": "markdown",
   "metadata": {},
   "source": [
    "### Configuring Kernel\n",
    "\n",
    "And we are almost done.\n",
    "\n",
    "Now we can configure our kernel, set required service, configure our execution settings"
   ]
  },
  {
   "cell_type": "code",
   "execution_count": 7,
   "metadata": {
    "polyglot_notebook": {
     "kernelName": "csharp"
    }
   },
   "outputs": [],
   "source": [
    "var chatCompletionService = kernel.GetRequiredService<IChatCompletionService>();\n",
    "        \n",
    "OpenAIPromptExecutionSettings openAiPromptExecutionSettings = new()\n",
    "{\n",
    "    Temperature = 0,\n",
    "    FunctionChoiceBehavior = FunctionChoiceBehavior.Auto()\n",
    "};"
   ]
  },
  {
   "cell_type": "markdown",
   "metadata": {},
   "source": [
    "As we mentioned before, we don't usually enforce our agent to use tools, we are providing them to it and allow to use if them seem fit. Tha'ts why we set FunctionChoiceBehavior to Auto.\n",
    "\n",
    "Now let's initiate our chat and check the reply"
   ]
  },
  {
   "cell_type": "code",
   "execution_count": 8,
   "metadata": {
    "polyglot_notebook": {
     "kernelName": "csharp"
    }
   },
   "outputs": [
    {
     "name": "stdout",
     "output_type": "stream",
     "text": [
      "It's sunny outside, and the wind speed is 17 m/s."
     ]
    }
   ],
   "source": [
    "var chatHistory = new ChatHistory(\"How's it outside?\");\n",
    "        \n",
    "await foreach (var message in chatCompletionService.GetStreamingChatMessageContentsAsync(\n",
    "    chatHistory,\n",
    "    executionSettings: openAiPromptExecutionSettings,\n",
    "    kernel: kernel))\n",
    "{\n",
    "    Console.Write(message);\n",
    "}"
   ]
  },
  {
   "cell_type": "markdown",
   "metadata": {},
   "source": [
    "We got our answer and as you can see neither we specified that the agent had to use out tool nor did we even mention the weather.\n",
    "- perceive phase - LLM is intelligable enough to understand our question\n",
    "- reason phase - analysing the question, the context, existing capabilities\n",
    "- act phase - using our fake API to get information about the weather\n"
   ]
  },
  {
   "cell_type": "markdown",
   "metadata": {
    "polyglot_notebook": {
     "kernelName": "markdown"
    }
   },
   "source": [
    "# Microsoft.Extensions.AI\n",
    "\n",
    "Semantic Kernel is an awesome framework and is great for a more complex scenario like creating multi agents collaboration. But for the simple agent like this is a bit overkill. \n",
    "Luckily for us Microsoft has recently introduced new package [Microsoft.Extension.AI](https://devblogs.microsoft.com/dotnet/introducing-microsoft-extensions-ai-preview/)\n",
    "This package provides the .NET ecosystem with essential abstractions for integrating AI services into .NET applications and libraries, along with middleware for adding key capabilities.\n",
    "\n",
    "Let's check how the same agent will look like"
   ]
  },
  {
   "cell_type": "markdown",
   "metadata": {},
   "source": [
    "First let's install our packages"
   ]
  },
  {
   "cell_type": "code",
   "execution_count": 1,
   "metadata": {
    "polyglot_notebook": {
     "kernelName": "csharp"
    }
   },
   "outputs": [
    {
     "data": {
      "text/html": [
       "<div><div></div><div></div><div><strong>Installed Packages</strong><ul><li><span>Azure.AI.OpenAI, 2.2.0-beta.4</span></li><li><span>Microsoft.Extensions.AI, 9.3.0-preview.1.25161.3</span></li><li><span>Microsoft.Extensions.AI.OpenAI, 9.3.0-preview.1.25161.3</span></li></ul></div></div>"
      ]
     },
     "metadata": {},
     "output_type": "display_data"
    }
   ],
   "source": [
    "#r \"nuget: Microsoft.Extensions.AI, 9.3.0-preview.1.25161.3\"\n",
    "#r \"nuget: Microsoft.Extensions.AI.OpenAI, 9.3.0-preview.1.25161.3\"\n",
    "#r \"nuget: Azure.AI.OpenAI, 2.2.0-beta.4\""
   ]
  },
  {
   "cell_type": "code",
   "execution_count": 2,
   "metadata": {
    "polyglot_notebook": {
     "kernelName": "csharp"
    }
   },
   "outputs": [],
   "source": [
    "using System.ClientModel;\n",
    "using System.ComponentModel;\n",
    "using Azure.AI.OpenAI;\n",
    "using Microsoft.Extensions.AI;"
   ]
  },
  {
   "cell_type": "code",
   "execution_count": 5,
   "metadata": {
    "polyglot_notebook": {
     "kernelName": "csharp"
    }
   },
   "outputs": [],
   "source": [
    "var client = new AzureOpenAIClient(new Uri(Endpoint), new ApiKeyCredential(Key))\n",
    "            .AsChatClient(ChatModelId)\n",
    "            .AsBuilder()\n",
    "            .UseFunctionInvocation() // allows to call registered functions\n",
    "            .Build();"
   ]
  },
  {
   "cell_type": "markdown",
   "metadata": {},
   "source": [
    "### Configuring Chat Client\n",
    "\n",
    "As you can see the syntax is a bit different but more or less the same\n",
    "\n",
    "Now let's configure it with our tools, but in this case there is no need for a separate plugin, we can just add these functions right here"
   ]
  },
  {
   "cell_type": "code",
   "execution_count": 6,
   "metadata": {
    "polyglot_notebook": {
     "kernelName": "csharp"
    }
   },
   "outputs": [],
   "source": [
    "[Description(\"Gets the weather\")]\n",
    "string GetWeather() => Random.Shared.NextDouble() > 0.5 ? \"It's sunny\" : \"It's raining\";\n",
    "\n",
    "[Description(\"Gets the wind speed\")]\n",
    "string GetWindSpeed() => $\"{Random.Shared.Next(0,50)} m/s\";"
   ]
  },
  {
   "cell_type": "markdown",
   "metadata": {},
   "source": [
    "Now we should register these tools in our agent"
   ]
  },
  {
   "cell_type": "code",
   "execution_count": 7,
   "metadata": {
    "polyglot_notebook": {
     "kernelName": "csharp"
    }
   },
   "outputs": [],
   "source": [
    "var chatOptions = new ChatOptions\n",
    "{\n",
    "    Tools = \n",
    "    [\n",
    "        AIFunctionFactory.Create(GetWeather),\n",
    "        AIFunctionFactory.Create(GetWindSpeed)\n",
    "    ]\n",
    "};"
   ]
  },
  {
   "cell_type": "markdown",
   "metadata": {},
   "source": [
    "And that's really it.  \n",
    "Let's now use it in a similar manner"
   ]
  },
  {
   "cell_type": "code",
   "execution_count": 8,
   "metadata": {
    "polyglot_notebook": {
     "kernelName": "csharp"
    }
   },
   "outputs": [
    {
     "name": "stdout",
     "output_type": "stream",
     "text": [
      "It's sunny outside, and the wind speed is 25 m/s."
     ]
    }
   ],
   "source": [
    "await foreach (var message in client.GetStreamingResponseAsync(\"How's it outside?\", chatOptions))\n",
    "{\n",
    "    Console.Write(message);\n",
    "}"
   ]
  },
  {
   "cell_type": "markdown",
   "metadata": {
    "polyglot_notebook": {
     "kernelName": "markdown"
    }
   },
   "source": [
    "### Final Thoughts\n",
    "\n",
    "We learnt how to create AI agent in .NET with 2 different approaches:\n",
    "- Semantic Kernel framework\n",
    "- Microsoft.Extensions.AI package"
   ]
  }
 ],
 "metadata": {
  "kernelspec": {
   "display_name": ".NET (C#)",
   "language": "C#",
   "name": ".net-csharp"
  },
  "polyglot_notebook": {
   "kernelInfo": {
    "defaultKernelName": "csharp",
    "items": [
     {
      "aliases": [],
      "name": "csharp"
     }
    ]
   }
  }
 },
 "nbformat": 4,
 "nbformat_minor": 2
}
