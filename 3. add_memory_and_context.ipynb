{
 "cells": [
  {
   "cell_type": "markdown",
   "metadata": {
    "polyglot_notebook": {
     "kernelName": "markdown"
    }
   },
   "source": [
    "# Memory and Context in AI Agents\n",
    "\n",
    "\n",
    "## Memory\n",
    "Without memory, AI agents are essentially stateless. They forget everything after each request, leading to a lack of continuity in conversation or execution.  \n",
    "Imagine telling an AI your name, and just moments later, it doesn't remember it.\n",
    "\n",
    "\n",
    "\n",
    "Without Memory:  \n",
    "- *User: \"Remember my name is John.\"*  \n",
    "- *AI: \"Okay!\"*  \n",
    "- *User: \"What's my name?\"*  \n",
    "- *AI: \"I don’t know.\"*  \n",
    "\n",
    "With Memory:  \n",
    "- *AI: \"Your name is John.\"*   \n"
   ]
  },
  {
   "cell_type": "markdown",
   "metadata": {},
   "source": [
    "## Context\n",
    "Context is crucial for seamless interactions and ensures that conversations with the AI feel natural and coherent.  \n",
    "It also allows the AI to handle multi-step tasks effectively, enhancing the overall user experience\n",
    "\n",
    "\n",
    "Without Context:  \n",
    "- *User: \"Book a flight to NYC.\"*    \n",
    "- *User: \"What's the weather?\"*  \n",
    "- *AI: \"I don't understand the relation.\"*  \n",
    "\n",
    "With Context:  \n",
    "- *AI knows user wants weather information for NYC*\n",
    "\n"
   ]
  },
  {
   "cell_type": "markdown",
   "metadata": {},
   "source": [
    "First let's setup our configuration and create our basic agent"
   ]
  },
  {
   "cell_type": "markdown",
   "metadata": {},
   "source": [
    "## Configuration\n",
    "\n",
    "Like in the previous exercise we need to setup LLM and configure keys and endpoints"
   ]
  },
  {
   "cell_type": "code",
   "execution_count": 1,
   "metadata": {
    "polyglot_notebook": {
     "kernelName": "csharp"
    }
   },
   "outputs": [],
   "source": [
    "var Endpoint = \"<REPLACE_WITH_AZURE_OPENAI_ENDPOINT>\";\n",
    "var Key = \"<REPLACE_WITH_AZURE_OPENAI_API_KEY>\";\n",
    "var ChatModelId = \"gpt-4o\"; // use any model you deployed\n",
    "var EmbeddingModelId = \"text-embedding-3-small\";"
   ]
  },
  {
   "cell_type": "markdown",
   "metadata": {},
   "source": [
    "## Creating Agent Without Context"
   ]
  },
  {
   "cell_type": "code",
   "execution_count": 2,
   "metadata": {
    "polyglot_notebook": {
     "kernelName": "csharp"
    }
   },
   "outputs": [
    {
     "data": {
      "text/html": [
       "<div><div></div><div></div><div><strong>Installed Packages</strong><ul><li><span>Azure.AI.OpenAI, 2.2.0-beta.4</span></li><li><span>Microsoft.Extensions.AI, 9.3.0-preview.1.25161.3</span></li><li><span>Microsoft.Extensions.AI.OpenAI, 9.3.0-preview.1.25161.3</span></li></ul></div></div>"
      ]
     },
     "metadata": {},
     "output_type": "display_data"
    }
   ],
   "source": [
    "#r \"nuget: Microsoft.Extensions.AI, 9.3.0-preview.1.25161.3\"\n",
    "#r \"nuget: Microsoft.Extensions.AI.OpenAI, 9.3.0-preview.1.25161.3\"\n",
    "#r \"nuget: Azure.AI.OpenAI, 2.2.0-beta.4\""
   ]
  },
  {
   "cell_type": "code",
   "execution_count": 3,
   "metadata": {
    "polyglot_notebook": {
     "kernelName": "csharp"
    }
   },
   "outputs": [],
   "source": [
    "using System.ComponentModel;\n",
    "using System.ClientModel;\n",
    "using Microsoft.Extensions.AI;\n",
    "using Azure.AI.OpenAI;"
   ]
  },
  {
   "cell_type": "code",
   "execution_count": 4,
   "metadata": {
    "polyglot_notebook": {
     "kernelName": "csharp"
    }
   },
   "outputs": [],
   "source": [
    "var client = new AzureOpenAIClient(new Uri(Endpoint), new ApiKeyCredential(Key))\n",
    "        .AsChatClient(ChatModelId)\n",
    "        .AsBuilder()\n",
    "        .UseFunctionInvocation() // allows to call registered functions\n",
    "        .Build();"
   ]
  },
  {
   "cell_type": "markdown",
   "metadata": {},
   "source": [
    "### Creating Tools\n",
    "\n",
    "Let's create 3 tools\n",
    "- Getting the weather information\n",
    "- Booking a flight\n",
    "- Getting travelling advice"
   ]
  },
  {
   "cell_type": "code",
   "execution_count": 8,
   "metadata": {
    "polyglot_notebook": {
     "kernelName": "csharp"
    }
   },
   "outputs": [],
   "source": [
    "[Description(\"Gets the weather\")]\n",
    "async Task<string> GetWeather(string destination)\n",
    "{\n",
    "    return $\"It's {(Random.Shared.NextDouble() > 0.5 ? \"sunny\" : \"raining\")} in {destination}\";\n",
    "}\n",
    "\n",
    "[Description(\"Books a flight to a given destination\")]\n",
    "async Task<string> BookFlight(string userRequest, string destination)\n",
    "{\n",
    "    return $\"Your flight to {destination} is booked.\";\n",
    "}\n",
    "\n",
    "[Description(\"Gets travel-related advice\")]\n",
    "async Task<string> GetTravelAdvice(string userRequest, string destination)\n",
    "{\n",
    "    return destination;\n",
    "}"
   ]
  },
  {
   "cell_type": "code",
   "execution_count": 10,
   "metadata": {
    "polyglot_notebook": {
     "kernelName": "csharp"
    }
   },
   "outputs": [],
   "source": [
    "var chatOptions = new ChatOptions\n",
    "{\n",
    "    Tools = \n",
    "    [\n",
    "        AIFunctionFactory.Create((string destination) => GetWeather(destination)),\n",
    "        AIFunctionFactory.Create(BookFlight),\n",
    "        AIFunctionFactory.Create(GetTravelAdvice)\n",
    "    ],\n",
    "    ToolMode = ChatToolMode.RequireAny\n",
    "};"
   ]
  },
  {
   "cell_type": "markdown",
   "metadata": {},
   "source": [
    "Now let's ask our agent 2 things:\n",
    "- Book a flight to NY\n",
    "- Give us vacation clothes recommendation"
   ]
  },
  {
   "cell_type": "code",
   "execution_count": 11,
   "metadata": {
    "polyglot_notebook": {
     "kernelName": "csharp"
    }
   },
   "outputs": [
    {
     "name": "stdout",
     "output_type": "stream",
     "text": [
      "Your flight to New York (NY) is booked!\n",
      "Could you please tell me the destination for your vacation? This will help me provide better advice on what to wear."
     ]
    }
   ],
   "source": [
    "await foreach (var message in client.GetStreamingResponseAsync(\"Book a flight to NY.\", chatOptions))\n",
    "{\n",
    "    Console.Write(message);\n",
    "}\n",
    "Console.WriteLine();\n",
    "\n",
    "await foreach (var message in client.GetStreamingResponseAsync(\"What should I wear on my vacation?\", chatOptions))\n",
    "{\n",
    "    Console.Write(message);\n",
    "}"
   ]
  },
  {
   "cell_type": "markdown",
   "metadata": {},
   "source": [
    "As expected agent cant make an observation that both questions are related. Because there is no context\n",
    ">Your flight to NY is booked.  \n",
    "I need to know your vacation destination to provide advice about what you should wear. Could you let me know where you're going?\n",
    "\n",
    "So let's add one."
   ]
  },
  {
   "cell_type": "markdown",
   "metadata": {},
   "source": [
    "## Adding Context\n",
    "\n",
    "Luckily for us memory and context could be added in a similar fashion - through a short term or a long term memory  \n",
    "In our example we will be using vector db [Chroma](https://www.trychroma.com) which we can use with their SDK  \n",
    "We can run it locally in a [docker container](https://hub.docker.com/r/chromadb/chroma)  "
   ]
  },
  {
   "cell_type": "code",
   "execution_count": 12,
   "metadata": {
    "polyglot_notebook": {
     "kernelName": "csharp"
    }
   },
   "outputs": [
    {
     "data": {
      "text/html": [
       "<div><div></div><div></div><div><strong>Installed Packages</strong><ul><li><span>ChromaDB.Client, 1.0.1-ci-13369893450</span></li></ul></div></div>"
      ]
     },
     "metadata": {},
     "output_type": "display_data"
    }
   ],
   "source": [
    "#r \"nuget: ChromaDB.Client, 1.0.1-ci-13369893450\""
   ]
  },
  {
   "cell_type": "markdown",
   "metadata": {},
   "source": [
    "### Chroma Client\n",
    "\n",
    "Let's create a ChromaCollectionClient using our hosted instance of Chroma.  \n",
    "We will also create a collection for our embeddings \"chat_memory\""
   ]
  },
  {
   "cell_type": "code",
   "execution_count": 13,
   "metadata": {
    "polyglot_notebook": {
     "kernelName": "csharp"
    }
   },
   "outputs": [],
   "source": [
    "using ChromaDB.Client;\n",
    "using System.Net.Http;\n",
    "\n",
    "public static async Task<ChromaCollectionClient> GetChromaCollectionClient()\n",
    "{\n",
    "    var configOptions = new ChromaConfigurationOptions(uri: \"http://localhost:8000/api/v1/\");\n",
    "    var httpClient = new HttpClient();\n",
    "    var chromaClient = new ChromaClient(configOptions, httpClient);\n",
    "    var collection = await chromaClient.GetOrCreateCollection(\"chat_memory\");\n",
    "    return new ChromaCollectionClient(collection, configOptions, httpClient);\n",
    "}\n"
   ]
  },
  {
   "cell_type": "markdown",
   "metadata": {},
   "source": [
    "### Embedding Generator\n",
    "\n",
    "Embeddig generator will translate our text into embeddigs (vectors)  \n",
    "Using Microsoft.Extensions.AI will allow us to do it easily"
   ]
  },
  {
   "cell_type": "code",
   "execution_count": 14,
   "metadata": {
    "polyglot_notebook": {
     "kernelName": "csharp"
    }
   },
   "outputs": [],
   "source": [
    "var generator =  new AzureOpenAIClient(\n",
    "                new Uri(Endpoint),\n",
    "                new ApiKeyCredential(Key))\n",
    "            .AsEmbeddingGenerator(EmbeddingModelId);"
   ]
  },
  {
   "cell_type": "markdown",
   "metadata": {},
   "source": [
    "Now let's create 2 helper methods\n",
    "- Storing flight booking information\n",
    "- Fetching relevant advice\n"
   ]
  },
  {
   "cell_type": "code",
   "execution_count": 15,
   "metadata": {
    "polyglot_notebook": {
     "kernelName": "csharp"
    }
   },
   "outputs": [],
   "source": [
    "private async Task<string> StoreFlightBooking(string userRequest, string destination)\n",
    "{\n",
    "    var response = $\"Your flight to {destination} is booked.\";\n",
    "\n",
    "    var collectionClient = await GetChromaCollectionClient();\n",
    "    var embedding = await generator.GenerateEmbeddingVectorAsync(userRequest);\n",
    "\n",
    "    await collectionClient.Add(\n",
    "        [Guid.NewGuid().ToString()],\n",
    "        [embedding],\n",
    "        [\n",
    "            new Dictionary<string, object>\n",
    "            {\n",
    "                [\"Type\"] = \"FlightBooking\",\n",
    "                [\"Destination\"] = destination,\n",
    "                [\"UserRequest\"] = userRequest // Store the original request as metadata\n",
    "            }\n",
    "        ]\n",
    "    );\n",
    "\n",
    "    return response;\n",
    "}"
   ]
  },
  {
   "cell_type": "code",
   "execution_count": 16,
   "metadata": {
    "polyglot_notebook": {
     "kernelName": "csharp"
    }
   },
   "outputs": [],
   "source": [
    "private async Task<string> FetchRelevantAdvice(string userRequest)\n",
    "{\n",
    "    var collectionClient = await GetChromaCollectionClient();\n",
    "    var embedding = await generator.GenerateEmbeddingVectorAsync(userRequest);\n",
    "\n",
    "    // Query ChromaDB using embedding, requesting the top 1 result based on similarity\n",
    "    var searchResults = await collectionClient.Query(embedding , 1, include: ChromaQueryInclude.Distances | ChromaQueryInclude.Metadatas);\n",
    "\n",
    "    if (searchResults.Any())\n",
    "    {\n",
    "        var metadata = searchResults.First().Metadata;\n",
    "        var destination = metadata![\"Destination\"].ToString();\n",
    "        var userRequestContext = metadata[\"UserRequest\"].ToString();\n",
    "\n",
    "        // Leaving it up to the AI to call the `GetWeather` function using description\n",
    "        return $\"Based on your trip to {destination} and your previous request '{userRequestContext}', let me get the current weather for you.\";\n",
    "    }\n",
    "    else\n",
    "    {\n",
    "        return \"I'm sorry, I couldn't find any related travel advice for your request.\";\n",
    "    }\n",
    "}"
   ]
  },
  {
   "cell_type": "markdown",
   "metadata": {},
   "source": [
    "Let's update our methods to use this context"
   ]
  },
  {
   "cell_type": "code",
   "execution_count": 17,
   "metadata": {
    "polyglot_notebook": {
     "kernelName": "csharp"
    }
   },
   "outputs": [],
   "source": [
    "[Description(\"Books a flight to a given destination\")]\n",
    "async Task<string> BookFlight(string userRequest, string destination)\n",
    "{\n",
    "    var response = await StoreFlightBooking(userRequest, destination);\n",
    "    return response;\n",
    "}\n",
    "\n",
    "[Description(\"Gets travel-related advice\")]\n",
    "async Task<string> GetTravelAdvice(string userRequest)\n",
    "{\n",
    "    var response = await FetchRelevantAdvice(userRequest);\n",
    "    return response;\n",
    "}"
   ]
  },
  {
   "cell_type": "markdown",
   "metadata": {},
   "source": [
    "Now let's ask our agent the same questions once again and see the result"
   ]
  },
  {
   "cell_type": "code",
   "execution_count": null,
   "metadata": {
    "polyglot_notebook": {
     "kernelName": "csharp"
    }
   },
   "outputs": [],
   "source": [
    "await foreach (var message in client.GetStreamingResponseAsync(\"Book a flight to NY.\", chatOptions))\n",
    "{\n",
    "    Console.Write(message);\n",
    "}\n",
    "Console.WriteLine();\n",
    "\n",
    "await foreach (var message in client.GetStreamingResponseAsync(\"What should I wear on my vacation?\", chatOptions))\n",
    "{\n",
    "    Console.Write(message);\n",
    "}"
   ]
  },
  {
   "cell_type": "markdown",
   "metadata": {},
   "source": [
    ">Your flight to New York (NY) is booked! Safe travels!  \n",
    "Since it's sunny in New York, I recommend wearing light and breathable clothing. Here are some suggestions:\n",
    ">- **T-shirt or tank top**: Choose lightweight fabrics.\n",
    ">- **Shorts or lightweight pants**: Comfortable options for walking around.\n",
    ">- **Sunglasses and a hat**: To protect yourself from the sun.\n",
    ">- **Sandals or comfortable walking shoes**: Perfect for exploring the city.\n",
    "\n",
    ">Don't forget to apply sunscreen! Enjoy your vacation!\n"
   ]
  },
  {
   "cell_type": "markdown",
   "metadata": {},
   "source": [
    "As you can see now with the context it's able to recognize that our question about vacation is probably related to our previous request to book a flight to NY"
   ]
  },
  {
   "cell_type": "markdown",
   "metadata": {
    "polyglot_notebook": {
     "kernelName": "markdown"
    }
   },
   "source": [
    "### Final Thoughts\n",
    "\n",
    "We learnt why memory and context are very important concepts of AI agents  \n",
    "and we also learnt how to handle it using Microsoft.Extensions.AI and Chroma vector db"
   ]
  }
 ],
 "metadata": {
  "kernelspec": {
   "display_name": ".NET (C#)",
   "language": "C#",
   "name": ".net-csharp"
  },
  "polyglot_notebook": {
   "kernelInfo": {
    "defaultKernelName": "csharp",
    "items": [
     {
      "aliases": [],
      "name": "csharp"
     }
    ]
   }
  }
 },
 "nbformat": 4,
 "nbformat_minor": 2
}
