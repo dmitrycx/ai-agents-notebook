{
 "cells": [
  {
   "cell_type": "markdown",
   "metadata": {
    "polyglot_notebook": {
     "kernelName": "markdown"
    }
   },
   "source": [
    "# Multi Agents Collaboration\n",
    "\n",
    "\n",
    "A Multi-Agent System consists of autonomous agents interacting to achieve a goal.\n",
    "\n",
    "**Core Characteristics**\n",
    "- Autonomy – Agents operate independently.\n",
    "- Cooperation – Agents collaborate for shared objectives.\n",
    "- Coordination – Agents synchronize tasks to avoid redundancy."
   ]
  },
  {
   "cell_type": "markdown",
   "metadata": {},
   "source": [
    "## Configuration\n",
    "\n",
    "Like in the previous exercise we need to setup LLM and configure keys and endpoints"
   ]
  },
  {
   "cell_type": "code",
   "execution_count": 5,
   "metadata": {
    "polyglot_notebook": {
     "kernelName": "csharp"
    }
   },
   "outputs": [],
   "source": [
    "var Endpoint = \"<REPLACE_WITH_AZURE_OPENAI_ENDPOINT>\";\n",
    "var Key = \"<REPLACE_WITH_AZURE_OPENAI_API_KEY>\";\n",
    "var ChatModelId = \"gpt-4o\"; // use any model you deployed"
   ]
  },
  {
   "cell_type": "markdown",
   "metadata": {},
   "source": [
    "## Semantic Kernel\n",
    "\n",
    "As mentioned earlier, **Semantik Kernel** works really good in more complex scenarios like multi-agent collaboration and communication, so let's use it  "
   ]
  },
  {
   "cell_type": "code",
   "execution_count": 6,
   "metadata": {
    "polyglot_notebook": {
     "kernelName": "csharp"
    }
   },
   "outputs": [
    {
     "data": {
      "text/html": [
       "<div><div></div><div></div><div><strong>Installed Packages</strong><ul><li><span>Microsoft.SemanticKernel, 1.41.0</span></li><li><span>Microsoft.SemanticKernel.Agents.Core, 1.41.0-preview</span></li></ul></div></div>"
      ]
     },
     "metadata": {},
     "output_type": "display_data"
    }
   ],
   "source": [
    "#r \"nuget: Microsoft.SemanticKernel, 1.41.0\"\n",
    "#r \"nuget: Microsoft.SemanticKernel.Agents.Core, 1.41.0-preview\""
   ]
  },
  {
   "cell_type": "code",
   "execution_count": 18,
   "metadata": {
    "polyglot_notebook": {
     "kernelName": "csharp"
    }
   },
   "outputs": [],
   "source": [
    "using System.Threading;\n",
    "using Microsoft.SemanticKernel;\n",
    "using Microsoft.SemanticKernel.Agents;\n",
    "using Microsoft.SemanticKernel.Agents.Chat;\n",
    "using Microsoft.SemanticKernel.ChatCompletion;"
   ]
  },
  {
   "cell_type": "code",
   "execution_count": 8,
   "metadata": {
    "polyglot_notebook": {
     "kernelName": "csharp"
    }
   },
   "outputs": [],
   "source": [
    "var kernel = Kernel.CreateBuilder()\n",
    "        .AddAzureOpenAIChatCompletion(ChatModelId, Endpoint, Key)\n",
    "        .Build();"
   ]
  },
  {
   "cell_type": "markdown",
   "metadata": {},
   "source": [
    "### Creating multiple agents\n",
    "\n",
    "Now let's create different agents using our kernel\n",
    "\n",
    "First let's create **Program Manager** agent to create a plan for creating app"
   ]
  },
  {
   "cell_type": "code",
   "execution_count": 25,
   "metadata": {
    "polyglot_notebook": {
     "kernelName": "csharp"
    }
   },
   "outputs": [],
   "source": [
    "string ProgamManager = \"\"\"\n",
    "                        You are a program manager which will take the requirement and create a plan for creating app. \n",
    "                        Program Manager understands the user requirements and form the detail documents with requirements and costing. \n",
    "                    \"\"\";\n",
    "\n",
    "ChatCompletionAgent ProgramManagerAgent =\n",
    "    new()\n",
    "    {\n",
    "        Instructions = ProgamManager,\n",
    "        Name = \"ProgramManagerAgent\",\n",
    "        Kernel = kernel\n",
    "    };"
   ]
  },
  {
   "cell_type": "markdown",
   "metadata": {},
   "source": [
    "Now we need a **Software Engineer** agent to actually create an app"
   ]
  },
  {
   "cell_type": "code",
   "execution_count": 26,
   "metadata": {
    "polyglot_notebook": {
     "kernelName": "csharp"
    }
   },
   "outputs": [],
   "source": [
    "string SoftwareEngineer = \"\"\"\n",
    "                            You are Software Engineer, and your goal is create web app using .NET by taking into consideration all\n",
    "                            the requirements given by Program Manager. \n",
    "                        \"\"\";\n",
    "\n",
    "ChatCompletionAgent SoftwareEngineerAgent =\n",
    "    new()\n",
    "    {\n",
    "        Instructions = SoftwareEngineer,\n",
    "        Name = \"SoftwareEngineerAgent\",\n",
    "        Kernel = kernel\n",
    "    };"
   ]
  },
  {
   "cell_type": "markdown",
   "metadata": {},
   "source": [
    "And the last one will be **Project Manager** agent who will review the code and make the final approval"
   ]
  },
  {
   "cell_type": "code",
   "execution_count": 28,
   "metadata": {
    "polyglot_notebook": {
     "kernelName": "csharp"
    }
   },
   "outputs": [],
   "source": [
    "string ProjectManager = \"\"\"\n",
    "                            You are manager which will review software engineer code, and make sure all client requirements are completed. \n",
    "                            You are the guardian of quality, ensuring the final product meets all specifications and receives the green light for release.\n",
    "                                Once all client requirements are completed, you can approve the request by just responding \"approve\"\n",
    "                        \"\"\";\n",
    "\n",
    "ChatCompletionAgent ProjectManagerAgent =\n",
    "    new()\n",
    "    {\n",
    "        Instructions = ProjectManager,\n",
    "        Name = \"ProjectManagerAgent\",\n",
    "        Kernel = kernel\n",
    "    };"
   ]
  },
  {
   "cell_type": "markdown",
   "metadata": {},
   "source": [
    "### Termination Strategy\n",
    "\n",
    "Before creating a chat between these agents we need some kind of termination strategy.  \n",
    "So everyone would know when to stop  \n",
    "\n",
    "Let's create one  \n",
    "Agents will communicate until project manager approves the solution"
   ]
  },
  {
   "cell_type": "code",
   "execution_count": 30,
   "metadata": {
    "polyglot_notebook": {
     "kernelName": "csharp"
    }
   },
   "outputs": [],
   "source": [
    "#pragma warning disable SKEXP0110\n",
    "sealed class ApprovalTerminationStrategy : TerminationStrategy\n",
    "{\n",
    "    // Terminate when the final message contains the term \"approve\"\n",
    "    protected override Task<bool> ShouldAgentTerminateAsync(Agent agent, IReadOnlyList<ChatMessageContent> history, CancellationToken cancellationToken)\n",
    "        => Task.FromResult(history[history.Count - 1].Content?.Contains(\"approve\", StringComparison.OrdinalIgnoreCase) ?? false);\n",
    "}"
   ]
  },
  {
   "cell_type": "markdown",
   "metadata": {},
   "source": [
    "### Group Chat\n",
    "\n",
    "We created our agents and we configured termination strategy  \n",
    "Let's make tham talk  \n",
    "\n",
    "Also besides termination strategy we can specify the maximum iterations limit  \n",
    "We need to do it not to spend too many resources.  \n",
    "If we can't get approval for a long time we better improve our prompts and start over"
   ]
  },
  {
   "cell_type": "code",
   "execution_count": null,
   "metadata": {
    "polyglot_notebook": {
     "kernelName": "csharp"
    }
   },
   "outputs": [],
   "source": [
    "#pragma warning disable SKEXP0110\n",
    "AgentGroupChat chat =\n",
    "    new(ProgramManagerAgent, SoftwareEngineerAgent, ProjectManagerAgent)\n",
    "    {\n",
    "        ExecutionSettings =\n",
    "            new()\n",
    "            {\n",
    "                TerminationStrategy =\n",
    "                    new ApprovalTerminationStrategy()\n",
    "                    {\n",
    "                        Agents = [ProjectManagerAgent],\n",
    "                        MaximumIterations = 10,\n",
    "                    }\n",
    "            }\n",
    "    };"
   ]
  },
  {
   "cell_type": "markdown",
   "metadata": {},
   "source": [
    "Let's start the conversation"
   ]
  },
  {
   "cell_type": "code",
   "execution_count": null,
   "metadata": {
    "polyglot_notebook": {
     "kernelName": "csharp"
    }
   },
   "outputs": [],
   "source": [
    "#pragma warning disable SKEXP0001\n",
    "// Invoke chat and display messages.\n",
    "var input = \"\"\"\n",
    "            I want to develop app which will provide me calculator. Keep it very simple. And get final approval from manager.\n",
    "            \"\"\";\n",
    "\n",
    "chat.AddChatMessage(new ChatMessageContent(AuthorRole.User, input));\n",
    "Console.WriteLine($\"# {AuthorRole.User}: '{input}'\");\n",
    "\n",
    "await foreach (var content in chat.InvokeAsync())\n",
    "{\n",
    "    Console.WriteLine($\"# {content.Role} - {content.AuthorName ?? \"*\"}: '{content.Content}'\");\n",
    "}"
   ]
  },
  {
   "cell_type": "markdown",
   "metadata": {},
   "source": [
    "We can see that the agents communicate back and forth until the condition is satisfied"
   ]
  },
  {
   "cell_type": "markdown",
   "metadata": {
    "polyglot_notebook": {
     "kernelName": "markdown"
    }
   },
   "source": [
    "### Final Thoughts\n",
    "\n",
    "We learnt that it's better to dedicate a separate agent to its own task and learnt how we can easily do it in .NET  it using **Semantic Kernel** framework"
   ]
  }
 ],
 "metadata": {
  "kernelspec": {
   "display_name": ".NET (C#)",
   "language": "C#",
   "name": ".net-csharp"
  },
  "polyglot_notebook": {
   "kernelInfo": {
    "defaultKernelName": "csharp",
    "items": [
     {
      "aliases": [],
      "name": "csharp"
     }
    ]
   }
  }
 },
 "nbformat": 4,
 "nbformat_minor": 2
}
