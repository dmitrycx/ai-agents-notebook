{
 "cells": [
  {
   "cell_type": "markdown",
   "metadata": {
    "polyglot_notebook": {
     "kernelName": "markdown"
    }
   },
   "source": [
    "# Code Execution with AI Agents in .NET\n",
    "\n",
    "\n",
    "## Use Cases for AI-Powered Code Execution\n",
    "\n",
    "Automated Code Generation\n",
    "  - Boilerplate code, unit tests, or SQL queries, \n",
    "  - Reduce the time spent on repetitive and mundane coding tasks\n",
    "\n",
    "Code Validation & Debugging\n",
    "- Suggest code improvements \n",
    "- Run code snippets in a controlled sandbox environment to identify and fix potential bugs\n",
    "\n",
    "\n",
    "DevOps & Scripting\n",
    "- Execute and manage scripts for automation, deployment, or monitoring tasks\n",
    "\n",
    "Interactive Coding Assistants\n",
    "- Real-time assistants to explain, modify, or refactor code, helping developers to understand unfamiliar codebases and improve code quality faster"
   ]
  },
  {
   "cell_type": "markdown",
   "metadata": {},
   "source": [
    "## Configuration\n",
    "\n",
    "Like in the previous exercise we need to setup LLM and configure keys and endpoints"
   ]
  },
  {
   "cell_type": "code",
   "execution_count": 1,
   "metadata": {
    "polyglot_notebook": {
     "kernelName": "csharp"
    }
   },
   "outputs": [],
   "source": [
    "var Endpoint = \"<REPLACE_WITH_AZURE_OPENAI_ENDPOINT>\";\n",
    "var Key = \"<REPLACE_WITH_AZURE_OPENAI_API_KEY>\";\n",
    "var ChatModelId = \"gpt-4o\"; // use any model you deployed"
   ]
  },
  {
   "cell_type": "markdown",
   "metadata": {},
   "source": [
    "## Creating code execution agent"
   ]
  },
  {
   "cell_type": "code",
   "execution_count": 2,
   "metadata": {
    "polyglot_notebook": {
     "kernelName": "csharp"
    }
   },
   "outputs": [
    {
     "data": {
      "text/html": [
       "<div><div></div><div></div><div><strong>Installed Packages</strong><ul><li><span>Azure.AI.OpenAI, 2.2.0-beta.4</span></li><li><span>Microsoft.CodeAnalysis.CSharp.Scripting, 4.13.0</span></li><li><span>Microsoft.Extensions.AI, 9.3.0-preview.1.25161.3</span></li><li><span>Microsoft.Extensions.AI.OpenAI, 9.3.0-preview.1.25161.3</span></li></ul></div></div>"
      ]
     },
     "metadata": {},
     "output_type": "display_data"
    }
   ],
   "source": [
    "#r \"nuget: Microsoft.Extensions.AI, 9.3.0-preview.1.25161.3\"\n",
    "#r \"nuget: Microsoft.Extensions.AI.OpenAI, 9.3.0-preview.1.25161.3\"\n",
    "#r \"nuget: Azure.AI.OpenAI, 2.2.0-beta.4\"\n",
    "#r \"nuget: Microsoft.CodeAnalysis.CSharp.Scripting, 4.13.0\""
   ]
  },
  {
   "cell_type": "code",
   "execution_count": 5,
   "metadata": {
    "polyglot_notebook": {
     "kernelName": "csharp"
    }
   },
   "outputs": [],
   "source": [
    "using System.ComponentModel;\n",
    "using System.ClientModel;\n",
    "using Microsoft.CodeAnalysis.CSharp.Scripting;\n",
    "using Microsoft.CodeAnalysis.Scripting;\n",
    "using Microsoft.Extensions.AI;\n",
    "using Azure.AI.OpenAI;"
   ]
  },
  {
   "cell_type": "code",
   "execution_count": 6,
   "metadata": {
    "polyglot_notebook": {
     "kernelName": "csharp"
    }
   },
   "outputs": [],
   "source": [
    "var client = new AzureOpenAIClient(new Uri(Endpoint), new ApiKeyCredential(Key))\n",
    "        .AsChatClient(ChatModelId)\n",
    "        .AsBuilder()\n",
    "        .UseFunctionInvocation() // allows to call registered functions\n",
    "        .Build();"
   ]
  },
  {
   "cell_type": "markdown",
   "metadata": {},
   "source": [
    "### Creating Tools\n",
    "\n",
    "Now let's create a tool for our client to execute code and register that tool"
   ]
  },
  {
   "cell_type": "code",
   "execution_count": 7,
   "metadata": {
    "polyglot_notebook": {
     "kernelName": "csharp"
    }
   },
   "outputs": [],
   "source": [
    "[Description(\"Executes a C# expression and returns the result.\")]\n",
    "async Task<string> ExecuteCSharpCode(string code)\n",
    "{\n",
    "    try\n",
    "    {\n",
    "        Console.WriteLine(\"executing ExecuteCSharpCode method\");\n",
    "        var result = await CSharpScript.EvaluateAsync<object>(code, ScriptOptions.Default);\n",
    "        return result?.ToString() ?? \"null\";\n",
    "    }\n",
    "    catch (Exception ex)\n",
    "    {\n",
    "        return $\"Error: {ex.Message}\";\n",
    "    }\n",
    "}"
   ]
  },
  {
   "cell_type": "code",
   "execution_count": 8,
   "metadata": {
    "polyglot_notebook": {
     "kernelName": "csharp"
    }
   },
   "outputs": [],
   "source": [
    "var chatOptions = new ChatOptions\n",
    "{\n",
    "    Tools =\n",
    "    [\n",
    "        AIFunctionFactory.Create(ExecuteCSharpCode)\n",
    "    ]\n",
    "};"
   ]
  },
  {
   "cell_type": "markdown",
   "metadata": {},
   "source": [
    "Now let's ask our agent to calculate something for us"
   ]
  },
  {
   "cell_type": "code",
   "execution_count": null,
   "metadata": {
    "polyglot_notebook": {
     "kernelName": "csharp"
    }
   },
   "outputs": [],
   "source": [
    "var chatMessage = \"Evaluate: 2 + 2 * 3\";\n",
    "await foreach (var message in client.GetStreamingResponseAsync(chatMessage, chatOptions))\n",
    "{\n",
    "    Console.Write(message);\n",
    "}"
   ]
  },
  {
   "cell_type": "markdown",
   "metadata": {},
   "source": [
    "We created a tool 'ExecuteCSharpCode' which we provided to our agent.  \n",
    "With that tool our agent is able to execute code and give us the result. \n",
    "This is very powerful technique because now our agent is able to generate code, analyze and execute it, but at the same time it's extremely dangerous. \n",
    "\n",
    ">In  our previous example we provided our agent tools that were preconfigured and determined. Our agent could just get weather related information. Right now it can potentially generate a harmful script and run it in our environment  "
   ]
  },
  {
   "cell_type": "markdown",
   "metadata": {},
   "source": [
    "## Security Concerns\n",
    "\n",
    "\n",
    "**Security Risks** in Code Execution \n",
    "- Risk of Arbitrary Code Execution (RCE) -> AI might generate and run harmful commands.\n",
    "- Unauthorized Access -> AI might access files, networks, or system processes.\n",
    "- Infinite Loops & Performance Issues -> AI-generated code could lead to resource exhaustion.\n",
    "\n",
    "\n",
    "**Risk Mitigations** \n",
    "- Sandboxing -> Execute code in an isolated environment (e.g., Roslyn Scripting).\n",
    "- Resource Limits -> Set max CPU, memory, and execution time.\n",
    "- API Whitelisting -> Only allow safe pre-approved operations.\n",
    "- Input Validation -> Analyze generated code before running it.\n"
   ]
  },
  {
   "cell_type": "markdown",
   "metadata": {},
   "source": [
    "Let's update our method to make it more safe\n",
    "- restrict namespaces\n",
    "- restrict assemblies\n",
    "- limit execution time"
   ]
  },
  {
   "cell_type": "code",
   "execution_count": 10,
   "metadata": {
    "polyglot_notebook": {
     "kernelName": "csharp"
    }
   },
   "outputs": [],
   "source": [
    "using System.Threading;\n",
    "\n",
    "private static async Task<object> ExecuteSandboxedCodeAsync(string code)\n",
    "{\n",
    "    Console.WriteLine(\"executing ExecuteCSharpCode method safely\");\n",
    "    // Define sandboxed script options\n",
    "    var scriptOptions = ScriptOptions.Default\n",
    "        .WithImports(\"System\") // Restrict imports to only safe namespaces\n",
    "        .WithReferences(AppDomain.CurrentDomain.GetAssemblies());\n",
    "\n",
    "    using var cts = new CancellationTokenSource(TimeSpan.FromSeconds(3)); // Limit execution time\n",
    "\n",
    "    try\n",
    "    {\n",
    "        return await CSharpScript.EvaluateAsync<object>(code, scriptOptions, cancellationToken: cts.Token);\n",
    "    }\n",
    "    catch (CompilationErrorException ex)\n",
    "    {\n",
    "        return $\"Compilation Error: {string.Join(\"\\n\", ex.Diagnostics)}\";\n",
    "    }\n",
    "    catch (Exception ex)\n",
    "    {\n",
    "        return $\"Execution Error: {ex.Message}\";\n",
    "    }\n",
    "}"
   ]
  },
  {
   "cell_type": "markdown",
   "metadata": {},
   "source": [
    "Now we can use this method which is much safer than directly calling CSharpScript.EvaluateAsync\n",
    ">//var result = await CSharpScript.EvaluateAsync<object>(code, ScriptOptions.Default);  \n",
    "var result = await ExecuteSandboxedCodeAsync(code);  "
   ]
  },
  {
   "cell_type": "markdown",
   "metadata": {},
   "source": [
    "But please note this is a very powerful tool and you need to be very mindful about where and how you can use it"
   ]
  },
  {
   "cell_type": "markdown",
   "metadata": {
    "polyglot_notebook": {
     "kernelName": "markdown"
    }
   },
   "source": [
    "### Final Thoughts\n",
    "\n",
    "We learnt how to create code execution AI agent in .NET and learnt about the dangers of this technique"
   ]
  }
 ],
 "metadata": {
  "kernelspec": {
   "display_name": ".NET (C#)",
   "language": "C#",
   "name": ".net-csharp"
  },
  "polyglot_notebook": {
   "kernelInfo": {
    "defaultKernelName": "csharp",
    "items": [
     {
      "aliases": [],
      "name": "csharp"
     }
    ]
   }
  }
 },
 "nbformat": 4,
 "nbformat_minor": 2
}
